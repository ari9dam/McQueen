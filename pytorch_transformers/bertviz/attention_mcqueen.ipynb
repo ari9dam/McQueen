{
 "cells": [
  {
   "cell_type": "code",
   "execution_count": 1,
   "metadata": {},
   "outputs": [],
   "source": [
    "# from bertviz.attention import get_attention\n",
    "from pytorch_transformers import BertModel, BertTokenizer, BertConfig"
   ]
  },
  {
   "cell_type": "code",
   "execution_count": 2,
   "metadata": {},
   "outputs": [],
   "source": [
    "import pandas as pd\n",
    "import numpy as np\n",
    "import json\n",
    "import os\n",
    "import sys\n",
    "import time\n",
    "from tqdm import tqdm\n",
    "import seaborn as sns; \n",
    "import matplotlib.pyplot as plt\n",
    "from collections import defaultdict"
   ]
  },
  {
   "cell_type": "markdown",
   "metadata": {},
   "source": [
    "### Input Example"
   ]
  },
  {
   "cell_type": "code",
   "execution_count": 19,
   "metadata": {},
   "outputs": [],
   "source": [
    "# sentence_a = \"To attach magnets to a piece of wood, you can\"\n",
    "# options = [\"Use superglue\",\"a soldering iron\"]\n",
    "goldlabel = \"1\""
   ]
  },
  {
   "cell_type": "code",
   "execution_count": 20,
   "metadata": {},
   "outputs": [],
   "source": [
    "sentence_a = 'Neatly wrap up an extension cord.'\n",
    "options = ['Wrap the cord around your hand and elbow.', 'Wrap the cord around your hand and knee.']\n",
    "# sentence_a = 'How to clean blinds without tearing them up'\n",
    "# options = ['Place a cloth on each side of a pair of tongs.', 'Find a feather duster, and cut the feathers off every two inches.']"
   ]
  },
  {
   "cell_type": "code",
   "execution_count": 21,
   "metadata": {},
   "outputs": [],
   "source": [
    "data={}\n",
    "data['id']= \"1\"\n",
    "data[\"question\"]= \"\"\n",
    "data[\"premises\"] = [[sentence_a],[sentence_a]]\n",
    "data[\"choices\"]= options\n",
    "data[\"gold_label\"]= goldlabel\n"
   ]
  },
  {
   "cell_type": "markdown",
   "metadata": {},
   "source": [
    "### Utility Functions"
   ]
  },
  {
   "cell_type": "code",
   "execution_count": 22,
   "metadata": {},
   "outputs": [],
   "source": [
    "import torch\n",
    "def get_proba(logits):\n",
    "    m = torch.nn.Softmax(dim=1)\n",
    "    return m(logits)\n",
    "    "
   ]
  },
  {
   "cell_type": "code",
   "execution_count": 23,
   "metadata": {},
   "outputs": [],
   "source": [
    "def get_tokens(tokens):\n",
    "    ''' Get the token words from tokenids tensor '''\n",
    "    \n",
    "    tokens = tokens.numpy().reshape(tokens.size()[1],-1)\n",
    "    num_choices = len(tokens)\n",
    "    token_words = {}\n",
    "    for idx, each in enumerate(tokens):\n",
    "        each_choice_words = []\n",
    "        for each_word in each:\n",
    "            if each_word != tokenizer._convert_token_to_id(\"[PAD]\"):\n",
    "                each_choice_words.append(tokenizer._convert_id_to_token(each_word))\n",
    "        token_words['choice'+str(idx)] = each_choice_words\n",
    "        \n",
    "    return token_words\n",
    "        "
   ]
  },
  {
   "cell_type": "markdown",
   "metadata": {},
   "source": [
    "### Load McQueen Models"
   ]
  },
  {
   "cell_type": "code",
   "execution_count": 24,
   "metadata": {},
   "outputs": [],
   "source": [
    "sys.path.append(\"../models\")\n",
    "from hf_bert_mcq_parallel_reader import BertMCQParallelReader\n",
    "from hf_bert_mcq_parallel import BertMCQParallel\n",
    "from util import cleanup_global_logging,prepare_global_logging\n",
    "from hf_bert_mcq_concat import BertMCQConcat\n",
    "from hf_bert_mcq_concat_reader import BertMCQConcatReader\n",
    "from hf_bert_mcq_weighted_sum import BertMCQWeightedSum\n",
    "from hf_bert_mcq_simple_sum import BertMCQSimpleSum\n",
    "from hf_bert_mcq_mac import BertMCQMAC\n",
    "from pytorch_transformers.file_utils import PYTORCH_PRETRAINED_BERT_CACHE"
   ]
  },
  {
   "cell_type": "markdown",
   "metadata": {},
   "source": [
    "### Input McQueen Params"
   ]
  },
  {
   "cell_type": "code",
   "execution_count": 25,
   "metadata": {},
   "outputs": [
    {
     "name": "stderr",
     "output_type": "stream",
     "text": [
      "09/26/2019 14:56:43 - INFO - pytorch_transformers.tokenization_utils -   loading file https://s3.amazonaws.com/models.huggingface.co/bert/bert-large-uncased-whole-word-masking-vocab.txt from cache at /home/kkpal/.cache/torch/pytorch_transformers/b3a6b2c6d7ea2ffa06d0e7577c1e88b94fad470ae0f060a4ffef3fe0bdf86730.542ce4285a40d23a559526243235df47c5f75c197f04f37d1a0c124c32c9a084\n"
     ]
    }
   ],
   "source": [
    "model_type = 'bert'\n",
    "model_version = 'bert-large-uncased-whole-word-masking'\n",
    "mcq_model = 'bert-mcq-weighted-sum'\n",
    "tie_weights_weighted_sum = True\n",
    "local_rank = 0\n",
    "do_lower_case = True\n",
    "max_len = 128\n",
    "model_dir = \"/scratch/kkpal/physical/noq/tiedws_128_9e-6_10865\"\n",
    "tokenizer = BertTokenizer.from_pretrained(model_version, do_lower_case=do_lower_case)"
   ]
  },
  {
   "cell_type": "code",
   "execution_count": 26,
   "metadata": {},
   "outputs": [
    {
     "name": "stderr",
     "output_type": "stream",
     "text": [
      "09/26/2019 14:56:43 - INFO - pytorch_transformers.modeling_utils -   loading configuration file /scratch/kkpal/physical/noq/tiedws_128_9e-6_10865/config.json\n",
      "09/26/2019 14:56:43 - INFO - pytorch_transformers.modeling_utils -   Model config {\n",
      "  \"attention_probs_dropout_prob\": 0.1,\n",
      "  \"finetuning_task\": null,\n",
      "  \"hidden_act\": \"gelu\",\n",
      "  \"hidden_dropout_prob\": 0.1,\n",
      "  \"hidden_size\": 1024,\n",
      "  \"initializer_range\": 0.02,\n",
      "  \"intermediate_size\": 4096,\n",
      "  \"layer_norm_eps\": 1e-12,\n",
      "  \"max_position_embeddings\": 512,\n",
      "  \"num_attention_heads\": 16,\n",
      "  \"num_hidden_layers\": 24,\n",
      "  \"num_labels\": 2,\n",
      "  \"output_attentions\": true,\n",
      "  \"output_hidden_states\": false,\n",
      "  \"torchscript\": false,\n",
      "  \"type_vocab_size\": 2,\n",
      "  \"vocab_size\": 30522\n",
      "}\n",
      "\n",
      "09/26/2019 14:56:43 - INFO - pytorch_transformers.modeling_utils -   loading weights file /scratch/kkpal/physical/noq/tiedws_128_9e-6_10865/pytorch_model.bin\n"
     ]
    }
   ],
   "source": [
    "if mcq_model == 'bert-mcq-parallel-max':\n",
    "    model = BertMCQParallel.from_pretrained(model_dir,output_attentions=True,\n",
    "                                            cache_dir=os.path.join(str(PYTORCH_PRETRAINED_BERT_CACHE),\n",
    "                                                                   'distributed_{}'.format(local_rank)))\n",
    "    data_reader = BertMCQParallelReader()\n",
    "elif mcq_model == 'bert-mcq-concat':\n",
    "    model = BertMCQConcat.from_pretrained(model_dir,output_attentions=True,\n",
    "                                            cache_dir=os.path.join(str(PYTORCH_PRETRAINED_BERT_CACHE),\n",
    "                                                                   'distributed_{}'.format(local_rank)))\n",
    "    data_reader = BertMCQConcatReader()\n",
    "elif mcq_model == 'bert-mcq-weighted-sum':\n",
    "    model = BertMCQWeightedSum.from_pretrained(model_dir,output_attentions=True,\n",
    "                                               tie_weights = tie_weights_weighted_sum,\n",
    "                                               cache_dir=os.path.join(str(PYTORCH_PRETRAINED_BERT_CACHE),\n",
    "                                                                      'distributed_{}'.format(local_rank)))\n",
    "    data_reader = BertMCQParallelReader()\n",
    "elif mcq_model == 'bert-mcq-simple-sum':\n",
    "    model = BertMCQSimpleSum.from_pretrained(model_dir,output_attentions=True,\n",
    "                                             cache_dir=os.path.join(str(PYTORCH_PRETRAINED_BERT_CACHE),\n",
    "                                                                      'distributed_{}'.format(local_rank)))\n",
    "    data_reader = BertMCQParallelReader()\n",
    "elif mcq_model == 'bert-mcq-mac':\n",
    "    model = BertMCQMAC.from_pretrained(model_dir,output_attentions=True,\n",
    "                                               cache_dir=os.path.join(str(PYTORCH_PRETRAINED_BERT_CACHE),\n",
    "                                                                      'distributed_{}'.format(local_rank)))\n",
    "    data_reader = BertMCQParallelReader()\n",
    "else:\n",
    "    print (\"Model Unknown\")"
   ]
  },
  {
   "cell_type": "markdown",
   "metadata": {},
   "source": [
    "### DataLoader of McQueen Models\n",
    "* Prepare an example data\n",
    "* Get the string "
   ]
  },
  {
   "cell_type": "code",
   "execution_count": 44,
   "metadata": {},
   "outputs": [],
   "source": [
    "!rm cached_bert_example.json_128_None\n",
    "with open('example.json', 'w') as fp:\n",
    "    json.dump(data, fp)"
   ]
  },
  {
   "cell_type": "markdown",
   "metadata": {},
   "source": [
    "### McQueen Evaluation"
   ]
  },
  {
   "cell_type": "code",
   "execution_count": 45,
   "metadata": {},
   "outputs": [],
   "source": [
    "def visualize_attention_heads(X1, X2, sent_type, layer, head):\n",
    "    ''' Visualize the attention heads in headmaps for a given layer and head '''\n",
    "    sns.set()\n",
    "    sns.set(rc={'figure.figsize':(20,5)})\n",
    "\n",
    "#     print (np.asarray(X1[sent_type]['attn']).shape)\n",
    "    data1 = np.asarray(X1[sent_type]['attn'])[layer][head]\n",
    "    data2 = np.asarray(X2[sent_type]['attn'])[layer][head]\n",
    "    \n",
    "    xticks1 = X1[sent_type]['right_text']\n",
    "    yticks1 = X1[sent_type]['left_text']\n",
    "    xticks2 = X2[sent_type]['right_text']\n",
    "    yticks2 = X2[sent_type]['left_text']\n",
    "    \n",
    "    f,(ax1,ax2) = plt.subplots(1,2)\n",
    "\n",
    "#     ax1.get_shared_y_axes().join(ax2)\n",
    "    ax1.xaxis.tick_top()\n",
    "    ax2.xaxis.tick_top()\n",
    "    ax1.set_title(\"Attention: Choice0\")\n",
    "    ax2.set_title(\"Attention: Choice1\")\n",
    "    g1 = sns.heatmap(data1,cbar=True,annot=False,ax=ax1,xticklabels=xticks1,yticklabels=yticks1)\n",
    "    g1.set_ylabel('')\n",
    "    g1.set_xlabel('')\n",
    "    g2 = sns.heatmap(data2,cbar=True,annot=False,ax=ax2,xticklabels=xticks2,yticklabels=yticks2)\n",
    "    g2.set_ylabel('')\n",
    "    g2.set_xlabel('')\n",
    "    \n",
    "    \n",
    "    # ax = sns.heatmap(uniform_data, vmin=0, vmax=1,annot=True, fmt=\"f\",cmap=\"YlGnBu\",xticklabels=X['ab']['right_text'][::-1],yticklabels=X['ab']['left_text'])\n",
    "#     ax = sns.heatmap(data, annot=False, xticklabels=X[sent]['right_text'],yticklabels=X[sent]['left_text'])"
   ]
  },
  {
   "cell_type": "code",
   "execution_count": 46,
   "metadata": {},
   "outputs": [],
   "source": [
    "def format_attention(attention, tokens, include_queries_and_keys=False):\n",
    "    ''' Process the attentions data'''\n",
    "    \n",
    "    is_sentence_pair = True\n",
    "    if is_sentence_pair:\n",
    "        slice_a = slice(0, tokens.index(\"[SEP]\")+1)            # Position corresponding to sentence A in input\n",
    "        slice_b = slice(tokens.index(\"[SEP]\")+1, len(tokens))  # Position corresponding to sentence B in input\n",
    "        slice_ab = slice(0, len(tokens))                       # Position corresponding to sentence AB in input\n",
    "    # Populate map with attn data and, optionally, query, key data\n",
    "    attn_dict = defaultdict(list)\n",
    "    if include_queries_and_keys:\n",
    "        queries_dict = defaultdict(list)\n",
    "        keys_dict = defaultdict(list)\n",
    "\n",
    "    for layer, attn_data in enumerate(attention):\n",
    "        attn = attn_data  # [16,128,128] assume batch_size=1; shape = [num_heads, source_seq_len, target_seq_len]\n",
    "        attn_dict['all'].append(attn[:, slice_ab, slice_ab].tolist())\n",
    "        if is_sentence_pair:\n",
    "            attn_dict['aa'].append(attn[:, slice_a, slice_a].tolist())  # Append A->A attention for layer, across all heads\n",
    "            attn_dict['bb'].append(attn[:, slice_b, slice_b].tolist())  # Append B->B attention for layer, across all heads\n",
    "            attn_dict['ab'].append(attn[:, slice_a, slice_b].tolist())  # Append A->B attention for layer, across all heads\n",
    "            attn_dict['ba'].append(attn[:, slice_b, slice_a].tolist())  # Append B->A attention for layer, across all heads\n",
    "        # Process queries and keys\n",
    "        if include_queries_and_keys:\n",
    "            queries = attn_data['queries'][0]  # assume batch_size=1; shape = [num_heads, seq_len, vector_size]\n",
    "            keys = attn_data['keys'][0]  # assume batch_size=1; shape = [num_heads, seq_len, vector_size]\n",
    "            queries_dict['all'].append(queries.tolist())\n",
    "            keys_dict['all'].append(keys.tolist())\n",
    "            if is_sentence_pair:\n",
    "                queries_dict['a'].append(queries[:, slice_a, :].tolist())\n",
    "                keys_dict['a'].append(keys[:, slice_a, :].tolist())\n",
    "                queries_dict['b'].append(queries[:, slice_b, :].tolist())\n",
    "                keys_dict['b'].append(keys[:, slice_b, :].tolist())\n",
    "    tokens_a = tokens[slice_a]\n",
    "    tokens_b = tokens[slice_b]\n",
    "    results = {\n",
    "            'all': {\n",
    "                'attn': attn_dict['all'],\n",
    "                'left_text': tokens_a + (tokens_b if tokens_b else []),\n",
    "                'right_text': tokens_a + (tokens_b if tokens_b else [])\n",
    "            }\n",
    "        }\n",
    "    if is_sentence_pair:\n",
    "        results.update({\n",
    "            'aa': {\n",
    "                'attn': attn_dict['aa'],\n",
    "                'left_text': tokens_a,\n",
    "                'right_text': tokens_a\n",
    "            },\n",
    "            'bb': {\n",
    "                'attn': attn_dict['bb'],\n",
    "                'left_text': tokens_b,\n",
    "                'right_text': tokens_b\n",
    "            },\n",
    "            'ab': {\n",
    "                'attn': attn_dict['ab'],\n",
    "                'left_text': tokens_a,\n",
    "                'right_text': tokens_b\n",
    "            },\n",
    "            'ba': {\n",
    "                'attn': attn_dict['ba'],\n",
    "                'left_text': tokens_b,\n",
    "                'right_text': tokens_a\n",
    "            }\n",
    "        })\n",
    "\n",
    "    return results"
   ]
  },
  {
   "cell_type": "code",
   "execution_count": 47,
   "metadata": {},
   "outputs": [
    {
     "name": "stdout",
     "output_type": "stream",
     "text": [
      "[Parameter containing:\n",
      "tensor([[ 0.0088,  0.0278,  0.0152,  ..., -0.0057,  0.0002,  0.0003]],\n",
      "       requires_grad=True), Parameter containing:\n",
      "tensor([-0.0008], requires_grad=True)]\n"
     ]
    }
   ],
   "source": [
    "print (list(model._weight_layer.parameters()))"
   ]
  },
  {
   "cell_type": "code",
   "execution_count": 48,
   "metadata": {},
   "outputs": [],
   "source": [
    "# for par in model._weight_layer.parameters():\n",
    "#     print(len(par.detach().numpy().tolist()[0]))"
   ]
  },
  {
   "cell_type": "code",
   "execution_count": 49,
   "metadata": {},
   "outputs": [
    {
     "name": "stdout",
     "output_type": "stream",
     "text": [
      "[Parameter containing:\n",
      "tensor([[ 0.0088,  0.0278,  0.0152,  ..., -0.0057,  0.0002,  0.0003]],\n",
      "       requires_grad=True), Parameter containing:\n",
      "tensor([-0.0008], requires_grad=True)]\n"
     ]
    }
   ],
   "source": [
    "print (list(model._classification_layer.parameters()))"
   ]
  },
  {
   "cell_type": "code",
   "execution_count": 50,
   "metadata": {},
   "outputs": [],
   "source": [
    "### Extract the Attentions and Output"
   ]
  },
  {
   "cell_type": "code",
   "execution_count": 51,
   "metadata": {},
   "outputs": [
    {
     "name": "stderr",
     "output_type": "stream",
     "text": [
      "09/26/2019 14:58:43 - INFO - hf_bert_mcq_parallel_reader -   Reading MCQ instances for 'bert mcq parallel' from jsonl dataset at: example.json\n",
      "preparing dataset:: 1it [00:00, 695.11it/s]\n",
      "09/26/2019 14:58:43 - INFO - hf_bert_mcq_parallel_reader -   Truncated Pairs:0\n"
     ]
    },
    {
     "name": "stdout",
     "output_type": "stream",
     "text": [
      "pooled_ph: torch.Size([2, 1024])\n",
      "pooled_ph-> torch.Size([2, 1, 1024])\n",
      "weights: [[1.0], [1.0]]\n",
      "torch.Size([2, 1])\n",
      "weighted: torch.Size([2, 1024])\n",
      "logits: torch.Size([2, 1])\n",
      "ProbA: [0.5722852945327759]\n",
      "ProbB: [0.4277147650718689]\n",
      "Gold: 1\n",
      "Logits: [[-2.494601 -2.785782]]\n",
      "Predicted: 0\n",
      "Wrong\n"
     ]
    },
    {
     "data": {
      "image/png": "[encoded data removed]",
      "text/plain": [
       "<Figure size 1440x360 with 4 Axes>"
      ]
     },
     "metadata": {},
     "output_type": "display_data"
    }
   ],
   "source": [
    "from torch.utils.data import (DataLoader, RandomSampler, SequentialSampler)\n",
    "eval_data = data_reader.read(\"example.json\", tokenizer, max_len)\n",
    "eval_dataloader = DataLoader(eval_data,batch_size=1)\n",
    "\n",
    "for input_ids, segment_ids, input_mask,label_ids in eval_dataloader:\n",
    "\n",
    "    tokens = get_tokens(input_ids)\n",
    "    outputs, attn = model(input_ids, segment_ids, input_mask, label_ids)\n",
    "    \n",
    "    # ----------- 1. Visualize the attention heads ----------- #\n",
    "    \n",
    "    full_attn = torch.Tensor()\n",
    "    \n",
    "    for e in attn:\n",
    "        full_attn = torch.cat((full_attn,e[None,:,:,:,:]))\n",
    "    \n",
    "    sent_type = 'all'\n",
    "    layer, head = 13,4\n",
    "    \n",
    "    # Get attentions corresponding to Choice 0 and Choice 1\n",
    "    X1 = format_attention(full_attn[:,0,:,:], tokens['choice0']) # Shape (layer,head,src_max_len,tgt_max_len) for choice0\n",
    "    X2 = format_attention(full_attn[:,1,:,:], tokens['choice1']) # Shape (layer,head,src_max_len,tgt_max_len) for choice1\n",
    "\n",
    "    visualize_attention_heads(X1, X2, sent_type,layer, head)\n",
    "    \n",
    "    \n",
    "    # ----------- 2. Choice Prediction and Probabilities ----------- #\n",
    "    \n",
    "    tmp_eval_loss = outputs[0]\n",
    "    logits = outputs[1]\n",
    "    p = get_proba(logits).detach().cpu()\n",
    "\n",
    "    print (\"ProbA:\",p[:,0].numpy().tolist())\n",
    "    print (\"ProbB:\",p[:,1].numpy().tolist())\n",
    "\n",
    "    logits = logits.detach().cpu().numpy()\n",
    "    label_ids = label_ids.to('cpu').numpy()[0]\n",
    "    print (\"Gold:\",label_ids)\n",
    "    print (\"Logits:\",logits)\n",
    "    outputs = np.argmax(logits, axis=1)[0]\n",
    "    print (\"Predicted:\",outputs)\n",
    "    print (\"Correct\" if outputs==label_ids else \"Wrong\")\n"
   ]
  },
  {
   "cell_type": "code",
   "execution_count": null,
   "metadata": {},
   "outputs": [],
   "source": []
  },
  {
   "cell_type": "code",
   "execution_count": null,
   "metadata": {},
   "outputs": [],
   "source": []
  }
 ],
 "metadata": {
  "kernelspec": {
   "display_name": "Python 3",
   "language": "python",
   "name": "python3"
  },
  "language_info": {
   "codemirror_mode": {
    "name": "ipython",
    "version": 3
   },
   "file_extension": ".py",
   "mimetype": "text/x-python",
   "name": "python",
   "nbconvert_exporter": "python",
   "pygments_lexer": "ipython3",
   "version": "3.6.9"
  }
 },
 "nbformat": 4,
 "nbformat_minor": 4
}
